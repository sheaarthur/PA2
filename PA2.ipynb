{
 "cells": [
  {
   "cell_type": "markdown",
   "id": "af006080",
   "metadata": {},
   "source": [
    "# Assignment 2 on Chapter 2\n",
    "## Shealyn Arthur\n",
    "### Version 1\n",
    "#### 2023Spring CS-150-01"
   ]
  },
  {
   "cell_type": "code",
   "execution_count": 2,
   "id": "3dc254bb",
   "metadata": {},
   "outputs": [
    {
     "name": "stdout",
     "output_type": "stream",
     "text": [
      "Enter a floating-point number: 11.11\n"
     ]
    }
   ],
   "source": [
    "float_number=float(input(\"Enter a floating-point number: \"))"
   ]
  },
  {
   "cell_type": "code",
   "execution_count": 3,
   "id": "8504747c",
   "metadata": {},
   "outputs": [
    {
     "name": "stdout",
     "output_type": "stream",
     "text": [
      "Enter an integer: 3\n"
     ]
    }
   ],
   "source": [
    "integer_number=int(input(\"Enter an integer: \"))"
   ]
  },
  {
   "cell_type": "code",
   "execution_count": 4,
   "id": "b6f5db20",
   "metadata": {},
   "outputs": [
    {
     "name": "stdout",
     "output_type": "stream",
     "text": [
      "The sum is 14.11\n"
     ]
    }
   ],
   "source": [
    "print(\"The sum is\", float_number+integer_number)"
   ]
  },
  {
   "cell_type": "code",
   "execution_count": 5,
   "id": "f4e25009",
   "metadata": {},
   "outputs": [
    {
     "name": "stdout",
     "output_type": "stream",
     "text": [
      "The difference is 8.11\n"
     ]
    }
   ],
   "source": [
    "print(\"The difference is\", float_number-integer_number)"
   ]
  },
  {
   "cell_type": "code",
   "execution_count": 6,
   "id": "1a320c7f",
   "metadata": {},
   "outputs": [
    {
     "name": "stdout",
     "output_type": "stream",
     "text": [
      "The product is 33.33\n"
     ]
    }
   ],
   "source": [
    "print(\"The product is\", float_number*integer_number)"
   ]
  },
  {
   "cell_type": "code",
   "execution_count": 10,
   "id": "ec152a6b",
   "metadata": {},
   "outputs": [
    {
     "name": "stdout",
     "output_type": "stream",
     "text": [
      "The quotient is 3.703333333333333\n"
     ]
    }
   ],
   "source": [
    "print(\"The quotient is\", float_number/integer_number)"
   ]
  },
  {
   "cell_type": "code",
   "execution_count": 12,
   "id": "b788016e",
   "metadata": {},
   "outputs": [
    {
     "name": "stdout",
     "output_type": "stream",
     "text": [
      "The type for the result is <class 'float'>\n"
     ]
    }
   ],
   "source": [
    "print(\"The type for the result is\", type(float_number/integer_number))"
   ]
  }
 ],
 "metadata": {
  "kernelspec": {
   "display_name": "Python 3 (ipykernel)",
   "language": "python",
   "name": "python3"
  },
  "language_info": {
   "codemirror_mode": {
    "name": "ipython",
    "version": 3
   },
   "file_extension": ".py",
   "mimetype": "text/x-python",
   "name": "python",
   "nbconvert_exporter": "python",
   "pygments_lexer": "ipython3",
   "version": "3.9.13"
  }
 },
 "nbformat": 4,
 "nbformat_minor": 5
}
